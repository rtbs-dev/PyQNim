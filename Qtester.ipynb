{
 "cells": [
  {
   "cell_type": "code",
   "execution_count": 10,
   "metadata": {
    "collapsed": false
   },
   "outputs": [
    {
     "name": "stdout",
     "output_type": "stream",
     "text": [
      "Using matplotlib backend: Qt4Agg\n"
     ]
    }
   ],
   "source": [
    "import qIters as qI\n",
    "reload(qI)\n",
    "import nim\n",
    "reload(nim)\n",
    "import agents\n",
    "reload(agents)\n",
    "\n",
    "%matplotlib"
   ]
  },
  {
   "cell_type": "code",
   "execution_count": 11,
   "metadata": {
    "collapsed": true
   },
   "outputs": [],
   "source": [
    "bryant=qI.Human('Bryant')\n",
    "ghost=qI.Rando('Ghost')\n",
    "qDude=qI.Q_bot('qDude')\n",
    "qBro =qI.Q_bot('qBro')\n",
    "goody=qI.Perfect('TwoShoes')\n",
    "\n",
    "QvQnim = nim.Nim('QvQ', 21, qDude, qBro)\n",
    "QvPnim = nim.Nim('QvP', 21, qDude, goody)\n",
    "QvRnim = nim.Nim('QvR', 21, qDude, ghost)"
   ]
  },
  {
   "cell_type": "code",
   "execution_count": 12,
   "metadata": {
    "collapsed": false
   },
   "outputs": [],
   "source": [
    "qI.run_Q(QvQnim, 100)"
   ]
  },
  {
   "cell_type": "code",
   "execution_count": 15,
   "metadata": {
    "collapsed": true
   },
   "outputs": [],
   "source": [
    "qI.Brain_Show(qDude.Q, (3,21), ax=None)"
   ]
  },
  {
   "cell_type": "code",
   "execution_count": 14,
   "metadata": {
    "collapsed": false
   },
   "outputs": [
    {
     "data": {
      "text/plain": [
       "{1: {1: -9.999999999999996},\n",
       " 2: {1: 16.451612903225165, 2: 0.10158513894987012},\n",
       " 3: {1: -7.471667132624639, 2: 16.451612903221882, 3: 0.14770307850456596},\n",
       " 4: {1: -3.1760659732482592, 2: -5.816624694765468, 3: 16.45161290322568},\n",
       " 5: {1: -16.451612482297715, 2: -16.45161225034932, 3: -16.45161231266519},\n",
       " 6: {1: 16.451598056811108, 2: -11.192232879195355, 3: -7.5065370002481355},\n",
       " 7: {1: -6.874100641282884, 2: 16.45159441067108, 3: -10.958291870796995},\n",
       " 8: {1: -0.03509517174897221, 2: -0.08389609296658744, 3: 16.451603488472575},\n",
       " 9: {1: -16.451445755254326, 2: -16.45136985188706, 3: -16.451440498003652},\n",
       " 10: {1: 16.44978332772143, 2: -2.462256991139173, 3: -11.751048335428933},\n",
       " 11: {1: -7.4205363236986335, 2: 16.45027161334627, 3: -10.082157419827013},\n",
       " 12: {1: -0.0653733583691732, 2: -0.013161898453889997, 3: 16.449993742370516},\n",
       " 13: {1: -16.442433859742465, 2: -16.4454179693078, 3: -16.440655571632874},\n",
       " 14: {1: 16.42059497211642, 2: -1.1895772995553846, 3: -0.5200510787668536},\n",
       " 15: {1: -0.07230462391573064, 2: 16.426735980208583, 3: -7.400621911967267},\n",
       " 16: {1: -9.576076068009769, 2: -0.13722919994165805, 3: 16.390086731259412},\n",
       " 17: {1: -16.323273754754783, 2: -16.353520206649385, 3: -16.34806961482321},\n",
       " 18: {1: 16.099764348525884, 2: -4.8918133802597445, 3: -6.393102762945448},\n",
       " 19: {1: -8.448524468226106, 2: 16.17619330365169, 3: -0.5586158883408954},\n",
       " 20: {1: -8.197402270614006, 2: -0.2939169999287894, 3: 16.164708064402586},\n",
       " 21: {1: -15.758606651888766, 2: -15.800137721394746, 3: -15.625949706299282}}"
      ]
     },
     "execution_count": 14,
     "metadata": {},
     "output_type": "execute_result"
    }
   ],
   "source": [
    "qDude.Q"
   ]
  }
 ],
 "metadata": {
  "kernelspec": {
   "display_name": "Python 2",
   "language": "python",
   "name": "python2"
  },
  "language_info": {
   "codemirror_mode": {
    "name": "ipython",
    "version": 2
   },
   "file_extension": ".py",
   "mimetype": "text/x-python",
   "name": "python",
   "nbconvert_exporter": "python",
   "pygments_lexer": "ipython2",
   "version": "2.7.11"
  }
 },
 "nbformat": 4,
 "nbformat_minor": 0
}
