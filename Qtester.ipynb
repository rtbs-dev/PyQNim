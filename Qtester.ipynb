{
 "cells": [
  {
   "cell_type": "code",
   "execution_count": 64,
   "metadata": {
    "collapsed": false
   },
   "outputs": [
    {
     "name": "stdout",
     "output_type": "stream",
     "text": [
      "Using matplotlib backend: Qt4Agg\n"
     ]
    }
   ],
   "source": [
    "%run \"qIters.py\"\n",
    "%run \"nim.py\"\n",
    "%run \"agents.py\"\n",
    "%matplotlib"
   ]
  },
  {
   "cell_type": "code",
   "execution_count": 85,
   "metadata": {
    "collapsed": true
   },
   "outputs": [],
   "source": [
    "bryant=Human('Bryant')\n",
    "ghost=Rando('Ghost')\n",
    "qDude=Q_bot('qDude')\n",
    "qBro =Q_bot('qBro')\n",
    "goody=Perfect('TwoShoes')\n",
    "\n",
    "QvQnim = Nim('QvQ', 21, qDude, qBro)\n",
    "QvPnim = Nim('QvP', 21, qDude, goody)\n",
    "QvRnim = Nim('QvR', 21, qDude, ghost)"
   ]
  },
  {
   "cell_type": "code",
   "execution_count": 86,
   "metadata": {
    "collapsed": false
   },
   "outputs": [],
   "source": [
    "run_Q(QvQnim, 100)"
   ]
  },
  {
   "cell_type": "code",
   "execution_count": 52,
   "metadata": {
    "collapsed": false
   },
   "outputs": [],
   "source": [
    "Brain_Show(qDude.Q, (3,21), ax=None)"
   ]
  },
  {
   "cell_type": "code",
   "execution_count": 30,
   "metadata": {
    "collapsed": false,
    "scrolled": true
   },
   "outputs": [
    {
     "data": {
      "text/plain": [
       "{1: {1: -9.999999999999998},\n",
       " 2: {1: 16.451612903225804, 2: -6.98950375600773},\n",
       " 3: {1: -11.492152122575769, 2: 16.451612903225804, 3: -0.01673224075176427},\n",
       " 4: {1: -16.248318228053915, 2: -15.996748900484905, 3: 16.451612903225804},\n",
       " 5: {1: -16.4516129032258, 2: -16.4516129032258, 3: -16.4516129032258},\n",
       " 6: {1: 16.451612903225797, 2: -4.39405588559137, 3: -14.706490536261121},\n",
       " 7: {1: -13.444766163238883, 2: 16.451612903225797, 3: -14.936763003880234},\n",
       " 8: {1: -15.835256932266772, 2: -11.498656298217988, 3: 16.451612903225797},\n",
       " 9: {1: -16.451612903225794, 2: -16.451612903225794, 3: -16.451612903225794},\n",
       " 10: {1: 16.45161290322578, 2: -14.951781416139346, 3: -0.030460923609759577},\n",
       " 11: {1: -7.403002576297754, 2: 16.451612903225772, 3: -7.427656958801577},\n",
       " 12: {1: -3.9439825020776276, 2: -15.625831827132696, 3: 16.451612903225783},\n",
       " 13: {1: -16.451612903225584, 2: -16.45161290322543, 3: -16.451612903225495},\n",
       " 14: {1: 16.451612903223634, 2: -12.048676298343159, 3: -12.204415385358233},\n",
       " 15: {1: -13.72796863258371, 2: 16.45161290321776, 3: -0.18966229212104146},\n",
       " 16: {1: -12.684110458646925, 2: -11.333466532391121, 3: 16.45161290322318},\n",
       " 17: {1: -16.451612903197606, 2: -16.451612903181015, 3: -16.451612903197994},\n",
       " 18: {1: 16.45161290294744, 2: -14.31584595123628, 3: -14.654996133710286},\n",
       " 19: {1: -12.311651137775327, 2: 16.451612902943946, 3: -8.67904816022566},\n",
       " 20: {1: -12.239237989343035, 2: -0.05915145822840705, 3: 16.45161290302933},\n",
       " 21: {1: -16.451612902035063, 2: -16.451612901485767, 3: -16.45161290153625}}"
      ]
     },
     "execution_count": 30,
     "metadata": {},
     "output_type": "execute_result"
    }
   ],
   "source": [
    "qDude.Q"
   ]
  },
  {
   "cell_type": "code",
   "execution_count": 35,
   "metadata": {
    "collapsed": true
   },
   "outputs": [],
   "source": [
    "text=plt.figtext(0.5,0.5,'start',)\n"
   ]
  },
  {
   "cell_type": "code",
   "execution_count": null,
   "metadata": {
    "collapsed": true
   },
   "outputs": [],
   "source": [
    "text.set_text('blah')"
   ]
  }
 ],
 "metadata": {
  "kernelspec": {
   "display_name": "Python 2",
   "language": "python",
   "name": "python2"
  },
  "language_info": {
   "codemirror_mode": {
    "name": "ipython",
    "version": 2
   },
   "file_extension": ".py",
   "mimetype": "text/x-python",
   "name": "python",
   "nbconvert_exporter": "python",
   "pygments_lexer": "ipython2",
   "version": "2.7.9"
  }
 },
 "nbformat": 4,
 "nbformat_minor": 0
}
