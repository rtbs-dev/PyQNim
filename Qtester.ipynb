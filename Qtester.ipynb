{
 "cells": [
  {
   "cell_type": "code",
   "execution_count": 112,
   "metadata": {
    "collapsed": false
   },
   "outputs": [
    {
     "name": "stdout",
     "output_type": "stream",
     "text": [
      "Using matplotlib backend: Qt4Agg\n"
     ]
    }
   ],
   "source": [
    "%run \"qIters.py\"\n",
    "%run \"nim.py\"\n",
    "%run \"agents.py\"\n",
    "%matplotlib"
   ]
  },
  {
   "cell_type": "code",
   "execution_count": 113,
   "metadata": {
    "collapsed": true
   },
   "outputs": [],
   "source": [
    "bryant=Human('Bryant')\n",
    "ghost=Rando('Ghost')\n",
    "qDude=Q_bot('qDude')\n",
    "qBro =Q_bot('qBro')\n",
    "goody=Perfect('TwoShoes')\n",
    "\n",
    "QvQnim = Nim('QvQ', 21, qDude, qBro)\n",
    "QvPnim = Nim('QvP', 21, qDude, goody)\n",
    "QvRnim = Nim('QvR', 21, qDude, ghost)"
   ]
  },
  {
   "cell_type": "code",
   "execution_count": 114,
   "metadata": {
    "collapsed": false
   },
   "outputs": [],
   "source": [
    "run_Q(QvQnim, 200)"
   ]
  },
  {
   "cell_type": "code",
   "execution_count": 108,
   "metadata": {
    "collapsed": false
   },
   "outputs": [],
   "source": [
    "Brain_Show(qDude.Q, (3,21), ax=None)"
   ]
  },
  {
   "cell_type": "code",
   "execution_count": 98,
   "metadata": {
    "collapsed": false
   },
   "outputs": [
    {
     "data": {
      "text/plain": [
       "{1: {1: -9.999999972735198},\n",
       " 2: {1: 16.45161288563561, 2: -9.99999999863311},\n",
       " 3: {1: -16.451609917566305, 2: 16.45161288563561, 3: -9.974453495736194},\n",
       " 4: {1: -16.447380117138298, 2: -16.449881605994136, 3: 16.45161288563561},\n",
       " 5: {1: -16.45161288563551, 2: -16.451612885635598, 3: -16.45161288563535},\n",
       " 6: {1: 16.451612885617863, 2: -16.451411244661923, 3: -16.451612833414988},\n",
       " 7: {1: -16.451610191327124, 2: 16.451612885634518, 3: -16.45127212635456},\n",
       " 8: {1: -16.451553141403913, 2: -16.451588270361633, 3: 16.451612885630333},\n",
       " 9: {1: -16.451612885601342, 2: -16.451612885622342, 3: -16.451612885573372},\n",
       " 10: {1: 16.45161288546319, 2: -16.451612736699083, 3: -16.45161282566505},\n",
       " 11: {1: -16.4516112593385, 2: 16.45161288536094, 3: -16.451612779366165},\n",
       " 12: {1: -16.451605284930046, 2: -16.451609240928683, 3: 16.45161288511705},\n",
       " 13: {1: -16.45161288382721, 2: -16.45161288497065, 3: -16.45161288498947},\n",
       " 14: {1: 16.451612880768756, 2: -16.451612838383703, 3: -16.451612854132975},\n",
       " 15: {1: -16.451612036525074, 2: 16.451612881220704, 3: -16.451612752438397},\n",
       " 16: {1: -16.45161281563881, 2: -16.45161281156434, 3: 16.451612881851148},\n",
       " 17: {1: -16.45161287481294, 2: -16.451612872358975, 3: -16.45161287575468},\n",
       " 18: {1: 16.45161286106584, 2: -16.451612815851476, 3: -16.45161284218373},\n",
       " 19: {1: -16.451612829623848, 2: 16.4516128565132, 3: -16.4516128568255},\n",
       " 20: {1: -16.451612811779793, 2: -16.451612848065473, 3: 16.451612851256172},\n",
       " 21: {1: -16.451612844851788, 2: -16.45161284264428, 3: -16.451612842320994}}"
      ]
     },
     "execution_count": 98,
     "metadata": {},
     "output_type": "execute_result"
    }
   ],
   "source": [
    "qDude.Q"
   ]
  },
  {
   "cell_type": "code",
   "execution_count": null,
   "metadata": {
    "collapsed": true
   },
   "outputs": [],
   "source": []
  }
 ],
 "metadata": {
  "kernelspec": {
   "display_name": "Python 2",
   "language": "python",
   "name": "python2"
  },
  "language_info": {
   "codemirror_mode": {
    "name": "ipython",
    "version": 2
   },
   "file_extension": ".py",
   "mimetype": "text/x-python",
   "name": "python",
   "nbconvert_exporter": "python",
   "pygments_lexer": "ipython2",
   "version": "2.7.9"
  }
 },
 "nbformat": 4,
 "nbformat_minor": 0
}
